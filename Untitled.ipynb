{
 "cells": [
  {
   "cell_type": "code",
   "execution_count": 4,
   "metadata": {},
   "outputs": [],
   "source": [
    "a = [1, 2, 3]\n",
    "b = {'kevin':'123'}"
   ]
  },
  {
   "cell_type": "code",
   "execution_count": 9,
   "metadata": {},
   "outputs": [
    {
     "name": "stdout",
     "output_type": "stream",
     "text": [
      "dict_values(['variable'])\n"
     ]
    }
   ],
   "source": [
    "print(b.values())"
   ]
  },
  {
   "cell_type": "code",
   "execution_count": 11,
   "metadata": {},
   "outputs": [
    {
     "name": "stdout",
     "output_type": "stream",
     "text": [
      "oskar hansen\n"
     ]
    }
   ],
   "source": [
    "a = 'oskar'\n",
    "b = ' hansen'\n",
    "name = a+b\n",
    "print(name)"
   ]
  },
  {
   "cell_type": "code",
   "execution_count": 12,
   "metadata": {},
   "outputs": [
    {
     "name": "stdout",
     "output_type": "stream",
     "text": [
      "1\n",
      "2\n",
      "3\n"
     ]
    }
   ],
   "source": [
    "list = [1, 2, 3]\n",
    "for i in list:\n",
    "    print(i)"
   ]
  },
  {
   "cell_type": "code",
   "execution_count": 17,
   "metadata": {},
   "outputs": [],
   "source": [
    "import bs4 as bs\n",
    "import urllib.request as url"
   ]
  },
  {
   "cell_type": "code",
   "execution_count": 2,
   "metadata": {},
   "outputs": [],
   "source": [
    "def inputParams():\n",
    "    desc = input('description: ').replace(' ','%20')\n",
    "    loc = input('location: ').replace(' ','%20')\n",
    "    params = {'description':desc, 'location':loc}\n",
    "    return params\n",
    "\n",
    "def genURL(a,b):\n",
    "    URL = 'https://www.yelp.com/search?'\n",
    "    find_description = 'find_desc='+str(a)\n",
    "    find_location = '&find_loc='+str(b)\n",
    "    URL+=find_description+find_location\n",
    "    return URL"
   ]
  },
  {
   "cell_type": "code",
   "execution_count": 3,
   "metadata": {},
   "outputs": [],
   "source": [
    "des = ['bar', 'restaurant', 'pub']\n",
    "\n",
    "pg = 200"
   ]
  },
  {
   "cell_type": "code",
   "execution_count": 15,
   "metadata": {},
   "outputs": [],
   "source": [
    "oskars_list = []\n",
    "for i in loc:\n",
    "    for j in des:\n",
    "        oskars_list.append(genURL(j,i))"
   ]
  },
  {
   "cell_type": "code",
   "execution_count": 12,
   "metadata": {},
   "outputs": [
    {
     "name": "stdout",
     "output_type": "stream",
     "text": [
      "['TX%20bar', 'some%20bar', 'something%20something']\n",
      "['sydney', 'melbourne', 'perth']\n"
     ]
    }
   ],
   "source": [
    "des = ['TX bar', 'some bar', 'something something']\n",
    "for e,i in enumerate(des):\n",
    "    des[e] = des[e].replace(' ','%20')\n",
    "\n",
    "print(des)\n",
    "loc = ['sydney', 'melbourne', 'perth']\n",
    "print(loc)"
   ]
  },
  {
   "cell_type": "code",
   "execution_count": 14,
   "metadata": {},
   "outputs": [],
   "source": [
    "prac_url = 'https://www.yelp.com/search?find_desc=bar&find_loc=sydney'"
   ]
  },
  {
   "cell_type": "code",
   "execution_count": 16,
   "metadata": {},
   "outputs": [
    {
     "data": {
      "text/plain": [
       "['https://www.yelp.com/search?find_desc=TX%20bar&find_loc=sydney',\n",
       " 'https://www.yelp.com/search?find_desc=some%20bar&find_loc=sydney',\n",
       " 'https://www.yelp.com/search?find_desc=something%20something&find_loc=sydney',\n",
       " 'https://www.yelp.com/search?find_desc=TX%20bar&find_loc=melbourne',\n",
       " 'https://www.yelp.com/search?find_desc=some%20bar&find_loc=melbourne',\n",
       " 'https://www.yelp.com/search?find_desc=something%20something&find_loc=melbourne',\n",
       " 'https://www.yelp.com/search?find_desc=TX%20bar&find_loc=perth',\n",
       " 'https://www.yelp.com/search?find_desc=some%20bar&find_loc=perth',\n",
       " 'https://www.yelp.com/search?find_desc=something%20something&find_loc=perth']"
      ]
     },
     "execution_count": 16,
     "metadata": {},
     "output_type": "execute_result"
    }
   ],
   "source": [
    "oskars_list"
   ]
  },
  {
   "cell_type": "code",
   "execution_count": 28,
   "metadata": {},
   "outputs": [],
   "source": [
    "restaurant_url = []\n",
    "\n",
    "for link in oskars_list:\n",
    "    source = url.urlopen(link)\n",
    "    page_soup = bs.BeautifulSoup(source, 'html.parser')\n",
    "    \n",
    "    mains = page_soup.find_all(\"a\", {\"class\":\"link__09f24__1MGLa link-color--inherit__09f24__3Cplm link-size--inherit__09f24__3Javq\"})\n",
    "    \n",
    "    for href in mains:\n",
    "        res_URL = 'https://www.yelp.com/'+str(href['href'])\n",
    "        restaurant_url.append(res_URL)"
   ]
  },
  {
   "cell_type": "code",
   "execution_count": 29,
   "metadata": {},
   "outputs": [
    {
     "data": {
      "text/plain": [
       "['https://www.yelp.com//biz/shady-pines-saloon-darlinghurst?osq=TX+bar',\n",
       " 'https://www.yelp.com//biz/jacobys-tiki-bar-enmore?osq=TX+bar',\n",
       " 'https://www.yelp.com//biz/surlys-surry-hills?osq=TX+bar',\n",
       " 'https://www.yelp.com//biz/miss-peaches-newtown?osq=TX+bar',\n",
       " 'https://www.yelp.com//biz/mj%C3%B8lner-sydney?osq=some+bar',\n",
       " 'https://www.yelp.com//biz/the-baxter-inn-sydney?osq=some+bar',\n",
       " 'https://www.yelp.com//biz/grandmas-bar-sydney?osq=some+bar',\n",
       " 'https://www.yelp.com//biz/papa-gedes-bar-sydney?osq=some+bar',\n",
       " 'https://www.yelp.com//biz/hotel-palisade-millers-point?osq=some+bar',\n",
       " 'https://www.yelp.com//biz/ramblin-rascal-tavern-sydney?osq=some+bar',\n",
       " 'https://www.yelp.com//biz/ching-a-lings-darlinghurst?osq=some+bar',\n",
       " 'https://www.yelp.com//biz/shady-pines-saloon-darlinghurst?osq=some+bar',\n",
       " 'https://www.yelp.com//biz/the-wild-rover-surry-hills?osq=some+bar',\n",
       " 'https://www.yelp.com//biz/pocket-bar-darlinghurst?osq=some+bar',\n",
       " 'https://www.yelp.com//biz/belvoir-st-theatre-surry-hills?osq=something+something',\n",
       " 'https://www.yelp.com//biz/social-brew-cafe-pyrmont?osq=something+something',\n",
       " 'https://www.yelp.com//biz/yd-haymarket?osq=something+something',\n",
       " 'https://www.yelp.com//biz/marlowes-way-sydney?osq=something+something',\n",
       " 'https://www.yelp.com//biz/sydney-observatory-sydney?osq=something+something',\n",
       " 'https://www.yelp.com//biz/the-rook-sydney?osq=something+something',\n",
       " 'https://www.yelp.com//biz/chefin-australia-surry-hills-2?osq=something+something',\n",
       " 'https://www.yelp.com//biz/the-endeavour-tap-rooms-sydney?osq=something+something',\n",
       " 'https://www.yelp.com//biz/luna-park-sydney-milsons-point-3?osq=something+something',\n",
       " 'https://www.yelp.com//biz/tiny-tots-event-hire-sydney?osq=something+something',\n",
       " 'https://www.yelp.com//biz/white-oaks-saloon-bar-and-dining-melbourne-2?osq=TX+bar',\n",
       " 'https://www.yelp.com//biz/some-velvet-morning-clifton-hill?osq=some+bar',\n",
       " 'https://www.yelp.com//biz/section-8-melbourne?osq=some+bar',\n",
       " 'https://www.yelp.com//biz/union-electric-bar-melbourne?osq=some+bar',\n",
       " 'https://www.yelp.com//biz/arbory-bar-and-eatery-melbourne?osq=some+bar',\n",
       " 'https://www.yelp.com//biz/bar-americano-melbourne?osq=some+bar',\n",
       " 'https://www.yelp.com//biz/the-croft-institute-melbourne?osq=some+bar',\n",
       " 'https://www.yelp.com//biz/two-wrongs-melbourne-south-yarra?osq=some+bar',\n",
       " 'https://www.yelp.com//biz/sun-moth-canteen-and-bar-melbourne?osq=some+bar',\n",
       " 'https://www.yelp.com//biz/chloes-bar-melbourne-2?osq=some+bar',\n",
       " 'https://www.yelp.com//biz/pol%C4%93pol%C4%93-bar-melbourne?osq=some+bar',\n",
       " 'https://www.yelp.com//adredir?ad_business_id=RZcv2dm3AgitmBTtK4AVLQ&campaign_id=u1z8qvPPx5rCwH6ivusFOw&click_origin=search_results&placement=above_search&placement_slot=0&redirect_url=https%3A%2F%2Fwww.yelp.com%2Fbiz%2Fmr-pc-advanced-it-solutions-fairfield-2&request_id=c092fb3ddfc86515&signature=9f0ed2106336e57d09685c206143b315995b29f3d8b60282c88e1dfed1f8a795&slot=0',\n",
       " 'https://www.yelp.com//biz/ima-project-cafe-carlton?osq=something+something',\n",
       " 'https://www.yelp.com//biz/henry-street-brewhouse-kensington?osq=something+something',\n",
       " 'https://www.yelp.com//biz/yo-chi-frozen-yogurt-melbourne?osq=something+something',\n",
       " 'https://www.yelp.com//biz/lulamae-melbourne?osq=something+something',\n",
       " 'https://www.yelp.com//biz/something-aussie-north-melbourne?osq=something+something',\n",
       " 'https://www.yelp.com//biz/laurent-bakery-melbourne-7?osq=something+something',\n",
       " 'https://www.yelp.com//biz/fatto-bar-and-cantina-melbourne-3?osq=something+something',\n",
       " 'https://www.yelp.com//biz/clementines-melbourne?osq=something+something',\n",
       " 'https://www.yelp.com//biz/hardware-lane-costumes-melbourne?osq=something+something',\n",
       " 'https://www.yelp.com//biz/finders-keepers-market-carlton?osq=something+something',\n",
       " 'https://www.yelp.com//biz/franks-texas-bbq-east-victoria-park?osq=TX+bar',\n",
       " 'https://www.yelp.com//biz/lot-twenty-perth?osq=some+bar',\n",
       " 'https://www.yelp.com//biz/alabama-song-perth-2?osq=some+bar',\n",
       " 'https://www.yelp.com//biz/mechanics-institute-northbridge?osq=some+bar',\n",
       " 'https://www.yelp.com//biz/sneaky-tonys-northbridge?osq=some+bar',\n",
       " 'https://www.yelp.com//biz/bar-lafayette-perth?osq=some+bar',\n",
       " 'https://www.yelp.com//biz/hula-bula-bar-perth?osq=some+bar',\n",
       " 'https://www.yelp.com//biz/joes-juice-joint-perth?osq=some+bar',\n",
       " 'https://www.yelp.com//biz/the-bird-northbridge?osq=some+bar',\n",
       " 'https://www.yelp.com//biz/choo-choos-perth?osq=some+bar',\n",
       " 'https://www.yelp.com//biz/no-mafia-perth?osq=some+bar',\n",
       " 'https://www.yelp.com//biz/shens-massage-perth?osq=something+something',\n",
       " 'https://www.yelp.com//biz/livingstones-urban-jungle-perth?osq=something+something',\n",
       " 'https://www.yelp.com//biz/fringe-world-festival-perth?osq=something+something',\n",
       " 'https://www.yelp.com//biz/t-sharp-and-co-perth-2?osq=something+something',\n",
       " 'https://www.yelp.com//biz/william-topp-perth-2?osq=something+something',\n",
       " 'https://www.yelp.com//biz/wild-orchid-jewellers-perth?osq=something+something',\n",
       " 'https://www.yelp.com//biz/picabar-perth-3?osq=something+something',\n",
       " 'https://www.yelp.com//biz/turnstyle-collectables-northbridge?osq=something+something',\n",
       " 'https://www.yelp.com//biz/ruck-rover-general-store-perth?osq=something+something',\n",
       " 'https://www.yelp.com//biz/total-bs-and-co-perth-3?osq=something+something']"
      ]
     },
     "execution_count": 29,
     "metadata": {},
     "output_type": "execute_result"
    }
   ],
   "source": [
    "restaurant_url"
   ]
  },
  {
   "cell_type": "code",
   "execution_count": null,
   "metadata": {},
   "outputs": [],
   "source": []
  }
 ],
 "metadata": {
  "kernelspec": {
   "display_name": "Python 3",
   "language": "python",
   "name": "python3"
  },
  "language_info": {
   "codemirror_mode": {
    "name": "ipython",
    "version": 3
   },
   "file_extension": ".py",
   "mimetype": "text/x-python",
   "name": "python",
   "nbconvert_exporter": "python",
   "pygments_lexer": "ipython3",
   "version": "3.7.3"
  }
 },
 "nbformat": 4,
 "nbformat_minor": 2
}
